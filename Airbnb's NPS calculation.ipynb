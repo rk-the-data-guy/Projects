{
 "cells": [
  {
   "cell_type": "code",
   "execution_count": 7,
   "id": "5f758d5d",
   "metadata": {},
   "outputs": [],
   "source": [
    "import numpy as np"
   ]
  },
  {
   "cell_type": "code",
   "execution_count": 8,
   "id": "3a419b85",
   "metadata": {},
   "outputs": [
    {
     "name": "stdout",
     "output_type": "stream",
     "text": [
      "Downloading...\r\n",
      "From: https://drive.google.com/uc?id=1c0ClC8SrPwJq5rrkyMKyPn80nyHcFikK\r\n",
      "To: /Users/rajkumarvellaisamy/survey.txt\r\n",
      "100%|██████████████████████████████████████| 2.55k/2.55k [00:00<00:00, 5.07MB/s]\r\n"
     ]
    }
   ],
   "source": [
    "!gdown 1c0ClC8SrPwJq5rrkyMKyPn80nyHcFikK"
   ]
  },
  {
   "cell_type": "code",
   "execution_count": 9,
   "id": "635dd0bd",
   "metadata": {},
   "outputs": [],
   "source": [
    "score = np.loadtxt('survey.txt')"
   ]
  },
  {
   "cell_type": "code",
   "execution_count": 10,
   "id": "f47df1a2",
   "metadata": {},
   "outputs": [
    {
     "data": {
      "text/plain": [
       "1"
      ]
     },
     "execution_count": 10,
     "metadata": {},
     "output_type": "execute_result"
    }
   ],
   "source": [
    "score.ndim"
   ]
  },
  {
   "cell_type": "code",
   "execution_count": 11,
   "id": "5c7ffb9a",
   "metadata": {},
   "outputs": [
    {
     "data": {
      "text/plain": [
       "(1167,)"
      ]
     },
     "execution_count": 11,
     "metadata": {},
     "output_type": "execute_result"
    }
   ],
   "source": [
    "score.shape"
   ]
  },
  {
   "cell_type": "code",
   "execution_count": 12,
   "id": "96b9abfd",
   "metadata": {},
   "outputs": [
    {
     "data": {
      "text/plain": [
       "1.0"
      ]
     },
     "execution_count": 12,
     "metadata": {},
     "output_type": "execute_result"
    }
   ],
   "source": [
    " np.min(score)"
   ]
  },
  {
   "cell_type": "code",
   "execution_count": 13,
   "id": "2bee677b",
   "metadata": {},
   "outputs": [
    {
     "data": {
      "text/plain": [
       "10.0"
      ]
     },
     "execution_count": 13,
     "metadata": {},
     "output_type": "execute_result"
    }
   ],
   "source": [
    "np.max(score)"
   ]
  },
  {
   "cell_type": "markdown",
   "id": "a4f11800",
   "metadata": {},
   "source": [
    "# Approach - 1"
   ]
  },
  {
   "cell_type": "code",
   "execution_count": 14,
   "id": "c6e55e47",
   "metadata": {},
   "outputs": [],
   "source": [
    "n_detractors = len(score[score<=6])"
   ]
  },
  {
   "cell_type": "code",
   "execution_count": 15,
   "id": "e8b7ea7f",
   "metadata": {},
   "outputs": [],
   "source": [
    "n_promoters = len(score[(score == 9) | (score == 10)])"
   ]
  },
  {
   "cell_type": "code",
   "execution_count": 16,
   "id": "b9a95e37",
   "metadata": {},
   "outputs": [],
   "source": [
    "perc_detractors = n_detractors/len(score) *100\n",
    "perc_promoters = n_promoters/len(score)*100"
   ]
  },
  {
   "cell_type": "code",
   "execution_count": 17,
   "id": "6429bcc5",
   "metadata": {},
   "outputs": [],
   "source": [
    "nps = round(perc_promoters - perc_detractors,2)"
   ]
  },
  {
   "cell_type": "code",
   "execution_count": 18,
   "id": "309e8103",
   "metadata": {},
   "outputs": [
    {
     "data": {
      "text/plain": [
       "23.74"
      ]
     },
     "execution_count": 18,
     "metadata": {},
     "output_type": "execute_result"
    }
   ],
   "source": [
    "nps"
   ]
  },
  {
   "cell_type": "markdown",
   "id": "a27e9680",
   "metadata": {},
   "source": [
    "# Approach - 2"
   ]
  },
  {
   "cell_type": "code",
   "execution_count": 19,
   "id": "8f0e2771",
   "metadata": {},
   "outputs": [],
   "source": [
    "score_cat = np.empty(shape = score.shape,dtype = \"U10\")"
   ]
  },
  {
   "cell_type": "code",
   "execution_count": 20,
   "id": "61be3b07",
   "metadata": {},
   "outputs": [],
   "source": [
    "score_cat[score<=6] = \"detractors\""
   ]
  },
  {
   "cell_type": "code",
   "execution_count": 21,
   "id": "f915e7a3",
   "metadata": {},
   "outputs": [],
   "source": [
    "score_cat[score>=9] = \"promoters\""
   ]
  },
  {
   "cell_type": "code",
   "execution_count": 22,
   "id": "7ef7c546",
   "metadata": {},
   "outputs": [],
   "source": [
    "score_cat[(score == 7) | (score == 8) ] = \"passive\""
   ]
  },
  {
   "cell_type": "code",
   "execution_count": 23,
   "id": "f3bc2090",
   "metadata": {},
   "outputs": [],
   "source": [
    "cat,count = np.unique(score_cat,return_counts = True)"
   ]
  },
  {
   "cell_type": "code",
   "execution_count": 24,
   "id": "469aad3e",
   "metadata": {},
   "outputs": [
    {
     "name": "stdout",
     "output_type": "stream",
     "text": [
      "['detractors' 'passive' 'promoters']\n",
      "[332 226 609]\n"
     ]
    }
   ],
   "source": [
    "print(cat)\n",
    "print(count)"
   ]
  },
  {
   "cell_type": "code",
   "execution_count": 25,
   "id": "b1d40d5f",
   "metadata": {},
   "outputs": [],
   "source": [
    "no_detractors = len(score_cat[score_cat == \"detractors\"])"
   ]
  },
  {
   "cell_type": "code",
   "execution_count": 26,
   "id": "bc9c099d",
   "metadata": {},
   "outputs": [],
   "source": [
    "no_promoters = len(score_cat[score_cat == \"promoters\"])"
   ]
  },
  {
   "cell_type": "code",
   "execution_count": 27,
   "id": "56937ea0",
   "metadata": {},
   "outputs": [],
   "source": [
    "percen_detractors = no_detractors/len(score_cat) *100"
   ]
  },
  {
   "cell_type": "code",
   "execution_count": 28,
   "id": "e6ed7b12",
   "metadata": {},
   "outputs": [],
   "source": [
    "percen_promoters = no_promoters/len(score_cat) *100"
   ]
  },
  {
   "cell_type": "code",
   "execution_count": 29,
   "id": "49c728ab",
   "metadata": {},
   "outputs": [],
   "source": [
    "nps = round(percen_promoters - percen_detractors,2)"
   ]
  },
  {
   "cell_type": "code",
   "execution_count": 30,
   "id": "fb172651",
   "metadata": {},
   "outputs": [
    {
     "data": {
      "text/plain": [
       "23.74"
      ]
     },
     "execution_count": 30,
     "metadata": {},
     "output_type": "execute_result"
    }
   ],
   "source": [
    "nps"
   ]
  },
  {
   "cell_type": "code",
   "execution_count": null,
   "id": "b5d33b06",
   "metadata": {},
   "outputs": [],
   "source": []
  }
 ],
 "metadata": {
  "kernelspec": {
   "display_name": "Python 3 (ipykernel)",
   "language": "python",
   "name": "python3"
  },
  "language_info": {
   "codemirror_mode": {
    "name": "ipython",
    "version": 3
   },
   "file_extension": ".py",
   "mimetype": "text/x-python",
   "name": "python",
   "nbconvert_exporter": "python",
   "pygments_lexer": "ipython3",
   "version": "3.10.6"
  }
 },
 "nbformat": 4,
 "nbformat_minor": 5
}
